{
 "cells": [
  {
   "cell_type": "markdown",
   "id": "a412f001",
   "metadata": {},
   "source": [
    "### 1) Develop a python program to read n digit integer number & seperate integer numbers and display each digit"
   ]
  },
  {
   "cell_type": "code",
   "execution_count": 16,
   "id": "b8735f26",
   "metadata": {
    "scrolled": true
   },
   "outputs": [
    {
     "name": "stdout",
     "output_type": "stream",
     "text": [
      "Enter the number of digits:-4\n",
      "Please enter a valid number of digits (greater than 0)\n"
     ]
    }
   ],
   "source": [
    "n=int(input(\"Enter the number of digits:\"))\n",
    "if n>0:\n",
    "    number=int(input(f\"Enter a {n}-digit integer:\"))\n",
    "    if number>=10**(n-1)and number<10**n:\n",
    "        for i in range(n):\n",
    "            digit=number//(10**(n-1))\n",
    "            print(digit)\n",
    "            number%=10**(n-1)\n",
    "            n-=1\n",
    "    else:\n",
    "        print(f\"Please enter a {n}-digit number\")\n",
    "else:\n",
    "    print(\"Please enter a valid number of digits (greater than 0)\")\n",
    "        "
   ]
  },
  {
   "cell_type": "markdown",
   "id": "531ab492",
   "metadata": {},
   "source": [
    "### 2)Develop a python program to accept 4 numbers and display then in sorted order using a minimum number of if else statement "
   ]
  },
  {
   "cell_type": "code",
   "execution_count": 10,
   "id": "82e1fc4e",
   "metadata": {},
   "outputs": [
    {
     "name": "stdout",
     "output_type": "stream",
     "text": [
      "Enter the first number:4\n",
      "Enter the second number:3\n",
      "Enter the third number:7\n",
      "Enter the fourth number:1\n",
      "The sorted number are : 1 3 4 7\n"
     ]
    }
   ],
   "source": [
    "a=int(input(\"Enter the first number:\"))\n",
    "b=int(input(\"Enter the second number:\"))\n",
    "c=int(input(\"Enter the third number:\"))\n",
    "d=int(input(\"Enter the fourth number:\"))\n",
    "if a>b:a,b=b,a\n",
    "if c>d:c,d=d,c\n",
    "if a>c:a,c=c,a\n",
    "if b>d:b,d=d,b\n",
    "if b>c:b,c=c,b\n",
    "print(\"The sorted number are :\",a,b,c,d)\n",
    "    "
   ]
  },
  {
   "cell_type": "code",
   "execution_count": 18,
   "id": "52e46abe",
   "metadata": {},
   "outputs": [
    {
     "data": {
      "text/plain": [
       "True"
      ]
     },
     "execution_count": 18,
     "metadata": {},
     "output_type": "execute_result"
    }
   ],
   "source": [
    "t1=7\n",
    "t2=7\n",
    "t1 is t2"
   ]
  },
  {
   "cell_type": "code",
   "execution_count": 23,
   "id": "25333e16",
   "metadata": {},
   "outputs": [
    {
     "name": "stdout",
     "output_type": "stream",
     "text": [
      "True\n"
     ]
    }
   ],
   "source": [
    "L=['red','white','hack']\n",
    "print('red' in L)"
   ]
  },
  {
   "cell_type": "code",
   "execution_count": 24,
   "id": "159c3492",
   "metadata": {},
   "outputs": [
    {
     "name": "stdout",
     "output_type": "stream",
     "text": [
      "8\n"
     ]
    }
   ],
   "source": [
    "a=10&9\n",
    "print(a)"
   ]
  },
  {
   "cell_type": "code",
   "execution_count": 25,
   "id": "50648101",
   "metadata": {},
   "outputs": [
    {
     "name": "stdout",
     "output_type": "stream",
     "text": [
      "11\n"
     ]
    }
   ],
   "source": [
    "a=10|9\n",
    "print(a)"
   ]
  },
  {
   "cell_type": "code",
   "execution_count": 26,
   "id": "b8529dc4",
   "metadata": {},
   "outputs": [
    {
     "name": "stdout",
     "output_type": "stream",
     "text": [
      "-11\n"
     ]
    }
   ],
   "source": [
    "a=~10\n",
    "print(a)"
   ]
  },
  {
   "cell_type": "code",
   "execution_count": 27,
   "id": "5aed18b3",
   "metadata": {},
   "outputs": [
    {
     "name": "stdout",
     "output_type": "stream",
     "text": [
      "1\n"
     ]
    }
   ],
   "source": [
    "a=6^7\n",
    "print(a)"
   ]
  },
  {
   "cell_type": "markdown",
   "id": "1cbac576",
   "metadata": {},
   "source": [
    "### 4) Develop a program for checking if a given n digit number is palindrome or not"
   ]
  },
  {
   "cell_type": "code",
   "execution_count": 7,
   "id": "2b575fad",
   "metadata": {},
   "outputs": [
    {
     "name": "stdout",
     "output_type": "stream",
     "text": [
      "enter an n-digit number:12321\n",
      "palindrome\n"
     ]
    }
   ],
   "source": [
    "number=int(input(\"enter an n-digit number:\"))\n",
    "original_number=number\n",
    "reversed_number=0\n",
    "while number>0:\n",
    "        digit=number%10\n",
    "        reversed_number=reversed_number*10+digit \n",
    "        number//=10\n",
    "if original_number==reversed_number:\n",
    "    print(\"palindrome\")\n",
    "else:\n",
    "    print(\"not palindrome\")"
   ]
  },
  {
   "cell_type": "markdown",
   "id": "74b438a3",
   "metadata": {},
   "source": [
    "### 5) Develop a python script to display a multiplication table for given integer n"
   ]
  },
  {
   "cell_type": "code",
   "execution_count": 6,
   "id": "e599bfb9",
   "metadata": {},
   "outputs": [
    {
     "name": "stdout",
     "output_type": "stream",
     "text": [
      "enter an integer for the mutipication table :3\n",
      "multipication table fotr3:\n",
      "3x1=3\n",
      "3x2=6\n",
      "3x3=9\n",
      "3x4=12\n",
      "3x5=15\n",
      "3x6=18\n",
      "3x7=21\n",
      "3x8=24\n",
      "3x9=27\n",
      "3x10=30\n"
     ]
    }
   ],
   "source": [
    "n=int(input(\"enter an integer for the mutipication table :\"))\n",
    "print(f\"multipication table fotr{n}:\")\n",
    "for i in range(1,11):\n",
    "    result=n*i\n",
    "    print(f\"{n}x{i}={result}\")"
   ]
  },
  {
   "cell_type": "code",
   "execution_count": 7,
   "id": "3936b516",
   "metadata": {},
   "outputs": [
    {
     "data": {
      "text/plain": [
       "False"
      ]
     },
     "execution_count": 7,
     "metadata": {},
     "output_type": "execute_result"
    }
   ],
   "source": [
    "t1=7\n",
    "t2=8\n",
    "t1 is t2"
   ]
  },
  {
   "cell_type": "code",
   "execution_count": 8,
   "id": "9c1d33e5",
   "metadata": {},
   "outputs": [
    {
     "name": "stdout",
     "output_type": "stream",
     "text": [
      "True\n"
     ]
    }
   ],
   "source": [
    "l=[\"red\",\"white\",\"hack\"]\n",
    "print(\"red\"in l)\n"
   ]
  },
  {
   "cell_type": "code",
   "execution_count": 9,
   "id": "78fd6cfe",
   "metadata": {},
   "outputs": [
    {
     "name": "stdout",
     "output_type": "stream",
     "text": [
      "False\n"
     ]
    }
   ],
   "source": [
    "print(\"brown\" in l)"
   ]
  },
  {
   "cell_type": "code",
   "execution_count": 10,
   "id": "ce98cbb8",
   "metadata": {},
   "outputs": [
    {
     "name": "stdout",
     "output_type": "stream",
     "text": [
      "100 200\n"
     ]
    }
   ],
   "source": [
    "a=100\n",
    "b=200\n",
    "print(a,b)"
   ]
  },
  {
   "cell_type": "code",
   "execution_count": 11,
   "id": "477eee5e",
   "metadata": {},
   "outputs": [
    {
     "name": "stdout",
     "output_type": "stream",
     "text": [
      "100,"
     ]
    }
   ],
   "source": [
    "print(a,end=',')"
   ]
  },
  {
   "cell_type": "code",
   "execution_count": 12,
   "id": "2f311e7b",
   "metadata": {},
   "outputs": [
    {
     "name": "stdout",
     "output_type": "stream",
     "text": [
      "200\n"
     ]
    }
   ],
   "source": [
    "print(b)"
   ]
  },
  {
   "cell_type": "code",
   "execution_count": 19,
   "id": "372dc697",
   "metadata": {},
   "outputs": [
    {
     "name": "stdout",
     "output_type": "stream",
     "text": [
      "good morning,it is a rainy day\n"
     ]
    }
   ],
   "source": [
    "print(\"good morning\",end=',')\n",
    "print(\"it is a rainy day\")"
   ]
  },
  {
   "cell_type": "code",
   "execution_count": 22,
   "id": "498459f8",
   "metadata": {},
   "outputs": [
    {
     "name": "stdout",
     "output_type": "stream",
     "text": [
      "G,f,G\n",
      "09,12,2015\n"
     ]
    }
   ],
   "source": [
    "print('G','f',sep=',',end=',')\n",
    "print('G')\n",
    "print('09','12','2015',sep=',',end='\\n')"
   ]
  },
  {
   "cell_type": "code",
   "execution_count": 1,
   "id": "e8398ca5",
   "metadata": {},
   "outputs": [
    {
     "name": "stdout",
     "output_type": "stream",
     "text": [
      "integer: 1,float: 5.33\n",
      "total\n"
     ]
    }
   ],
   "source": [
    "print(\"integer:% 2d,float:%5.2f\"%(1,5.3333333))\n",
    "print(\"total\")"
   ]
  },
  {
   "cell_type": "code",
   "execution_count": 7,
   "id": "4eb7258e",
   "metadata": {},
   "outputs": [
    {
     "name": "stdout",
     "output_type": "stream",
     "text": [
      "value%.2f%x\n"
     ]
    }
   ],
   "source": [
    "x=10.333333\n",
    "x\n",
    "print(\"value%.2f%x\")"
   ]
  },
  {
   "cell_type": "code",
   "execution_count": 8,
   "id": "43df1bcd",
   "metadata": {},
   "outputs": [
    {
     "ename": "SyntaxError",
     "evalue": "unterminated string literal (detected at line 1) (4089384333.py, line 1)",
     "output_type": "error",
     "traceback": [
      "\u001b[0;36m  Cell \u001b[0;32mIn[8], line 1\u001b[0;36m\u001b[0m\n\u001b[0;31m    txt1=\"my name is{frame},I'm{age}\".format(frame=\"john\",age=36\")\u001b[0m\n\u001b[0m                                                                ^\u001b[0m\n\u001b[0;31mSyntaxError\u001b[0m\u001b[0;31m:\u001b[0m unterminated string literal (detected at line 1)\n"
     ]
    }
   ],
   "source": [
    "txt1=\"my name is{frame},I'm{age}\".format(frame=\"john\",age=36\")\n",
    "txt2=\"my name is {0},I'm\"{1}',format{\"john\",36}'"
   ]
  },
  {
   "cell_type": "code",
   "execution_count": 9,
   "id": "159fec6c",
   "metadata": {},
   "outputs": [
    {
     "name": "stdout",
     "output_type": "stream",
     "text": [
      "enter the number greater than zero: 25\n",
      "floor of square root of a number  5\n",
      "perfect square\n"
     ]
    }
   ],
   "source": [
    "import math\n",
    "num=float(input(\"enter the number greater than zero: \"))\n",
    "sqrtNum=math.floor(num**0.5)\n",
    "print(\"floor of square root of a number \",sqrtNum)\n",
    "sqNum=sqrtNum*sqrtNum\n",
    "if(sqNum==num):\n",
    "    print(\"perfect square\")\n",
    "else:\n",
    "    print(\"not a perfect square root \")"
   ]
  },
  {
   "cell_type": "code",
   "execution_count": 10,
   "id": "3dc85888",
   "metadata": {},
   "outputs": [
    {
     "name": "stdout",
     "output_type": "stream",
     "text": [
      "integer: 1,float: 5.33\n",
      "Total Player: 24,batsman:12\n",
      "  062\n",
      "  4.53E+01\n"
     ]
    }
   ],
   "source": [
    "print(\"integer:%2d,float:%5.2f\"%(1,5.3333333))\n",
    "print(\"Total Player:%3d,batsman:%2d\"%(24,12))\n",
    "print(\"%5.3o\"%(50))\n",
    "print(\"%10.2E\"%(45.333))"
   ]
  },
  {
   "cell_type": "markdown",
   "id": "c59b881a",
   "metadata": {},
   "source": [
    "### 3) develop a python script to calculate the mean,median,mode,variance and standard deviation of n integer numbers "
   ]
  },
  {
   "cell_type": "code",
   "execution_count": 21,
   "id": "bb6b4082",
   "metadata": {},
   "outputs": [
    {
     "name": "stdout",
     "output_type": "stream",
     "text": [
      "enter the numbers of elements:6\n",
      "enter number1:4\n",
      "enter number2:8\n",
      "enter number3:6\n",
      "enter number4:5\n",
      "enter number5:3\n",
      "enter number6:9\n",
      "mean:5.833333333333333\n",
      "median:5.5\n",
      "mode:no mode\n",
      "sample variance:5.366666666666667\n",
      "population variance:4.472222222222222\n",
      "sample standard deviation:2.316606713852541\n",
      "population standard deviation:2.1147629234082532\n"
     ]
    }
   ],
   "source": [
    "n=int(input(\"enter the numbers of elements:\"))\n",
    "numbers=[int(input(f\"enter numbers{i+1}:\"))for i in range(n)]\n",
    "mean=sum(numbers)/n\n",
    "numbers.sort()\n",
    "if n%2==0:\n",
    "    median=(numbers[n//2-1]+numbers[n//2])/2\n",
    "else:\n",
    "    median=numbers[n//2]\n",
    "frequency={num:numbers.count(num)for num in numbers}\n",
    "max_count=max(frequency.values())\n",
    "mode=[k for k,v in frequency.items() if v==max_count]\n",
    "if len(mode)==n:\n",
    "    mode=\"no mode\"\n",
    "mean_difference_squared_sum=sum((x-mean)**2 for x in numbers)\n",
    "variance_sample=mean_difference_squared_sum/(n-1)if n>1 else 0\n",
    "variance_population=mean_difference_squared_sum/n\n",
    "standard_deviation_sample=variance_sample**0.5\n",
    "standard_deviation_population=variance_population**0.5\n",
    "print(f\"mean:{mean}\")\n",
    "print(f\"median:{median}\")\n",
    "print(f\"mode:{mode}\")\n",
    "print(f\"sample variance:{variance_sample}\")\n",
    "print(f\"population variance:{variance_population}\")\n",
    "print(f\"sample standard deviation:{standard_deviation_sample}\")\n",
    "print(f\"population standard deviation:{standard_deviation_population}\")"
   ]
  },
  {
   "cell_type": "code",
   "execution_count": 25,
   "id": "a566c134",
   "metadata": {},
   "outputs": [
    {
     "name": "stdout",
     "output_type": "stream",
     "text": [
      "5\n",
      "4\n",
      "3\n",
      "2\n",
      "1\n",
      "loop finished without break:\n"
     ]
    }
   ],
   "source": [
    "n=5\n",
    "while n>0:\n",
    "    print(n)\n",
    "    n-=1\n",
    "else:\n",
    "    print(\"loop finished without break:\")"
   ]
  },
  {
   "cell_type": "markdown",
   "id": "952303f7",
   "metadata": {},
   "source": [
    "### 6) develop a python program to read to rotate right abouyt a given position in that list and display them[hint: input[1,4,5,-10] position:2 output[-10,5,4,1]"
   ]
  },
  {
   "cell_type": "code",
   "execution_count": 2,
   "id": "49010ba6",
   "metadata": {},
   "outputs": [
    {
     "name": "stdout",
     "output_type": "stream",
     "text": [
      "enter the integer number:45687\n",
      "the reverse number is:78654\n"
     ]
    }
   ],
   "source": [
    "number=int(input(\"enter the integer number:\"))\n",
    "revs_number=0\n",
    "while(number>0):\n",
    "    remainder=number%10\n",
    "    revs_number=((revs_number)*10)+remainder\n",
    "    number=number//10\n",
    "print(\"the reverse number is:{}\".format(revs_number))"
   ]
  },
  {
   "cell_type": "markdown",
   "id": "8308203e",
   "metadata": {},
   "source": [
    "### 7) develop or write a python program to interchange the digits integer number[hint,input:23456,interchange:3&5, output:2 5 4 3 6]"
   ]
  },
  {
   "cell_type": "code",
   "execution_count": 9,
   "id": "dac22530",
   "metadata": {},
   "outputs": [
    {
     "name": "stdout",
     "output_type": "stream",
     "text": [
      "enter the user input:23456\n",
      "enter the first position which you want to swap:3\n",
      "enter the second position which you want to swap:4\n",
      "original number: 23456\n",
      "interchanged number: 23546\n"
     ]
    }
   ],
   "source": [
    "def interchange_digits(number,pos1,pos2):\n",
    "    number_str=str(number)\n",
    "    number_list=list(number_str)\n",
    "    number_list[pos1-1],number_list[pos2-1]=number_list[pos2-1],number_list[pos1-1]\n",
    "    interchanged_number=int(\"\".join(number_list))\n",
    "    return interchanged_number\n",
    "number=int(input('enter the user input:'))\n",
    "pos1=int(input('enter the first position which you want to swap:'))\n",
    "pos2=int(input('enter the second position which you want to swap:'))\n",
    "interchanged_number=interchange_digits(number,pos1,pos2)\n",
    "print('original number:',number)\n",
    "print('interchanged number:',interchanged_number)    \n",
    "\n",
    "    \n",
    "    \n",
    "    "
   ]
  },
  {
   "cell_type": "markdown",
   "id": "e785bd69",
   "metadata": {},
   "source": [
    "### 8) python prog to capitalize a given list [hello,good,how,simple]"
   ]
  },
  {
   "cell_type": "code",
   "execution_count": 5,
   "id": "0218aac7",
   "metadata": {},
   "outputs": [
    {
     "name": "stdout",
     "output_type": "stream",
     "text": [
      "['Hello', 'Good', 'How', 'Simple']\n"
     ]
    }
   ],
   "source": [
    "def capitalize_strings(string_list):\n",
    "    return[s.capitalize()for s in string_list]\n",
    "input_strings=['hello','good','how','simple']\n",
    "capitalized_strings=capitalize_strings(input_strings)\n",
    "print(capitalized_strings)"
   ]
  },
  {
   "cell_type": "markdown",
   "id": "33f56c88",
   "metadata": {},
   "source": [
    "### 9) python prog to determine and print the number of duplicate word in sentence"
   ]
  },
  {
   "cell_type": "code",
   "execution_count": 4,
   "id": "87999a9a",
   "metadata": {},
   "outputs": [
    {
     "name": "stdout",
     "output_type": "stream",
     "text": [
      "enter a sentence:hi i am tom, hi i am jerry\n",
      "duplicate words and their counts:\n",
      "hi:2\n",
      "i:2\n",
      "am:2\n"
     ]
    }
   ],
   "source": [
    "def count_duplicate_words(sentence):\n",
    "    words=sentence.split()\n",
    "    word_count={}\n",
    "    for word in words:\n",
    "        word=word.lower()\n",
    "        if word in word_count:\n",
    "            word_count[word]+=1\n",
    "        else:\n",
    "            word_count[word]=1\n",
    "    duplicates={word:count for word,count in word_count.items()if count>1}\n",
    "    if duplicates:\n",
    "        print(\"duplicate words and their counts:\")\n",
    "        for word,count in duplicates.items():\n",
    "            print(f\"{word}:{count}\")\n",
    "    else:\n",
    "        print(\"no duplicate words found\")\n",
    "sentence=input('enter a sentence:')\n",
    "count_duplicate_words(sentence)"
   ]
  },
  {
   "cell_type": "code",
   "execution_count": null,
   "id": "a6850d6d",
   "metadata": {},
   "outputs": [],
   "source": [
    "sample_dict={\"name\",\"jessa\",10:\"mobile\"}\n",
    "print"
   ]
  }
 ],
 "metadata": {
  "kernelspec": {
   "display_name": "Python 3 (ipykernel)",
   "language": "python",
   "name": "python3"
  },
  "language_info": {
   "codemirror_mode": {
    "name": "ipython",
    "version": 3
   },
   "file_extension": ".py",
   "mimetype": "text/x-python",
   "name": "python",
   "nbconvert_exporter": "python",
   "pygments_lexer": "ipython3",
   "version": "3.10.9"
  }
 },
 "nbformat": 4,
 "nbformat_minor": 5
}
